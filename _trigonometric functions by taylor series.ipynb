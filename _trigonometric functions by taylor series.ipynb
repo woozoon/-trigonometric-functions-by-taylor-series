{
 "cells": [
  {
   "cell_type": "markdown",
   "metadata": {},
   "source": [
    "## 삼각함수 값 테일러 급수 근사\n",
    "삼각함수를 term개수 만큼의 다항식의 합으로 테일러 급수로써 표현하고 for반복문을 통해 값x를 입력 받으면 값을 대입한 일반항을 누적해서 더하게끔 한다.\n",
    "\n",
    "이때 입력 값 x가 모든 실수가 될 수 있게끔 if문을 통해 음수인 경우와 주기를 벗어나는 경우를 입력해도 값이 올바르게 나오게끔 하였다. \n",
    "\n",
    "\n",
    "예를 들어 X로 Pi/4를 대입하면 루트2/2 의 값에 근접한 0.785를 얻을 수 있었다. 또, 2pi를 입력하면 정확히 0으로 값이 나오게 된다. \n"
   ]
  },
  {
   "cell_type": "code",
   "execution_count": 3,
   "metadata": {},
   "outputs": [
    {
     "name": "stdout",
     "output_type": "stream",
     "text": [
      "0.7850712584673832\n"
     ]
    }
   ],
   "source": [
    "Pi=3.1415926535\n",
    "def sin(x,term):\n",
    "    if x<0:\n",
    "        return -sin(-x,term)\n",
    "    while x>=2*Pi:\n",
    "        x -= 2*Pi\n",
    "    for n in range(1,term):\n",
    "        calculating_term=x\n",
    "        estimate=calculating_term\n",
    "        calculating_term *= -x*x/(2*n*(2*n+1))\n",
    "        estimate +=calculating_term\n",
    "    return estimate\n",
    "result=sin(Pi/4,20)\n",
    "print(result)"
   ]
  },
  {
   "cell_type": "markdown",
   "metadata": {},
   "source": [
    "## cosx과 tanx\n",
    "Cos도 마찬가지로 테일러 급수로 정의 하고 tan는 sin/cos으로 정의하면 tan의 값도 구할 수 있다.\n",
    "이때 tan 함수는 pi/2를 넣으면 매우 큰 값이 나오는데 이는 원래 tan가 pi/2에서 무한대로 발산하기 때문이다. "
   ]
  },
  {
   "cell_type": "code",
   "execution_count": 10,
   "metadata": {},
   "outputs": [
    {
     "name": "stdout",
     "output_type": "stream",
     "text": [
      "1.5711510499417912e+16\n"
     ]
    }
   ],
   "source": [
    "def cos(x,term):\n",
    "    if x<0:\n",
    "        return cos(-x,term)\n",
    "    while x>=2*Pi:\n",
    "        x -= 2*Pi\n",
    "    for n in range(1,term):\n",
    "        calculating_term=1\n",
    "        estimate=calculating_term\n",
    "        calculating_term *= -x*x/(2*n*(2*n-1))\n",
    "        estimate +=calculating_term\n",
    "    return estimate\n",
    "\n",
    "def tan(x,term):\n",
    "    return sin(x,term)/cos(x,term)\n",
    "result=tan(Pi/2,15)\n",
    "print(result)"
   ]
  }
 ],
 "metadata": {
  "kernelspec": {
   "display_name": "Python 3",
   "language": "python",
   "name": "python3"
  },
  "language_info": {
   "codemirror_mode": {
    "name": "ipython",
    "version": 3
   },
   "file_extension": ".py",
   "mimetype": "text/x-python",
   "name": "python",
   "nbconvert_exporter": "python",
   "pygments_lexer": "ipython3",
   "version": "3.7.6"
  }
 },
 "nbformat": 4,
 "nbformat_minor": 4
}
